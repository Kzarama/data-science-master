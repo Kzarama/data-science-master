{
 "cells": [
  {
   "cell_type": "markdown",
   "id": "b55f1498",
   "metadata": {},
   "source": [
    "<div align=\"center\">\n",
    "  <img width=\"600px\" src=\"https://www.collinsdictionary.com/images/full/baseball_557405302_1000.jpg\">\n",
    "</div>"
   ]
  },
  {
   "cell_type": "markdown",
   "id": "7585e34a",
   "metadata": {},
   "source": [
    "# Baseball Salary Predict"
   ]
  },
  {
   "cell_type": "markdown",
   "id": "ca1f5163",
   "metadata": {},
   "source": [
    "**Authors**:\n",
    "- Cristhian Castillo\n",
    "- Kevin Zarama\n",
    "- Aura Rivera\n",
    "- Jesus Gomez"
   ]
  },
  {
   "cell_type": "markdown",
   "id": "6fd27923",
   "metadata": {},
   "source": [
    "In this notebook we are going to build clusters with the characteristics of the players"
   ]
  },
  {
   "cell_type": "markdown",
   "id": "6bfb7712",
   "metadata": {},
   "source": [
    "**Notebook Objetive**: Create groups of players given their characteristics."
   ]
  },
  {
   "cell_type": "markdown",
   "id": "fa88487c",
   "metadata": {
    "toc": true
   },
   "source": [
    "<h1>Table of Contents<span class=\"tocSkip\"></span></h1>\n",
    "<div class=\"toc\"><ul class=\"toc-item\"><li><span><a href=\"#Packages-and-Functions\" data-toc-modified-id=\"Packages-and-Functions-1\">Packages and Functions</a></span><ul class=\"toc-item\"><li><span><a href=\"#Packages\" data-toc-modified-id=\"Packages-1.1\">Packages</a></span></li><li><span><a href=\"#Custom-Functions\" data-toc-modified-id=\"Custom-Functions-1.2\">Custom Functions</a></span></li></ul></li><li><span><a href=\"#Load-datasets\" data-toc-modified-id=\"Load-datasets-2\">Load datasets</a></span></li><li><span><a href=\"#Data-Preparation\" data-toc-modified-id=\"Data-Preparation-3\">Data Preparation</a></span><ul class=\"toc-item\"><li><span><a href=\"#Remove-Variables\" data-toc-modified-id=\"Remove-Variables-3.1\">Remove Variables</a></span></li><li><span><a href=\"#Separation-of-variables\" data-toc-modified-id=\"Separation-of-variables-3.2\">Separation of variables</a></span></li><li><span><a href=\"#One-Hot-Encoder\" data-toc-modified-id=\"One-Hot-Encoder-3.3\">One Hot Encoder</a></span></li></ul></li><li><span><a href=\"#Intrinsic-Dimension\" data-toc-modified-id=\"Intrinsic-Dimension-4\">Intrinsic Dimension</a></span><ul class=\"toc-item\"><li><span><a href=\"#Pipeline-build\" data-toc-modified-id=\"Pipeline-build-4.1\">Pipeline build</a></span></li><li><span><a href=\"#PCA-Features\" data-toc-modified-id=\"PCA-Features-4.2\">PCA Features</a></span></li><li><span><a href=\"#PC-Visualitations\" data-toc-modified-id=\"PC-Visualitations-4.3\">PC Visualitations</a></span></li><li><span><a href=\"#Explained-Variance\" data-toc-modified-id=\"Explained-Variance-4.4\">Explained Variance</a></span></li></ul></li><li><span><a href=\"#PC-Data\" data-toc-modified-id=\"PC-Data-5\">PC Data</a></span></li><li><span><a href=\"#Clustering\" data-toc-modified-id=\"Clustering-6\">Clustering</a></span><ul class=\"toc-item\"><li><span><a href=\"#Best-k\" data-toc-modified-id=\"Best-k-6.1\">Best k</a></span></li><li><span><a href=\"#Making-Clusters\" data-toc-modified-id=\"Making-Clusters-6.2\">Making Clusters</a></span></li></ul></li><li><span><a href=\"#Clusters-analysis\" data-toc-modified-id=\"Clusters-analysis-7\">Clusters analysis</a></span></li></ul></div>"
   ]
  },
  {
   "cell_type": "markdown",
   "id": "a88a611a",
   "metadata": {},
   "source": [
    "## Packages and Functions"
   ]
  },
  {
   "cell_type": "markdown",
   "id": "24986ade",
   "metadata": {},
   "source": [
    "### Packages"
   ]
  },
  {
   "cell_type": "code",
   "execution_count": 1,
   "id": "f0d74364",
   "metadata": {
    "ExecuteTime": {
     "end_time": "2022-06-01T16:20:23.917494Z",
     "start_time": "2022-06-01T16:20:22.412500Z"
    }
   },
   "outputs": [],
   "source": [
    "import pandas as pd\n",
    "import numpy as np\n",
    "import matplotlib.pyplot as plt\n",
    "\n",
    "from sklearn.decomposition import PCA\n",
    "from sklearn.preprocessing import StandardScaler\n",
    "\n",
    "from sklearn.cluster import KMeans\n",
    "\n",
    "from sklearn.pipeline import make_pipeline\n",
    "from sklearn.pipeline import Pipeline"
   ]
  },
  {
   "cell_type": "markdown",
   "id": "a1e04766",
   "metadata": {},
   "source": [
    "### Custom Functions"
   ]
  },
  {
   "cell_type": "code",
   "execution_count": 2,
   "id": "198a9eeb",
   "metadata": {
    "ExecuteTime": {
     "end_time": "2022-06-01T16:20:23.925026Z",
     "start_time": "2022-06-01T16:20:23.921468Z"
    }
   },
   "outputs": [],
   "source": [
    "import sys\n",
    "sys.path.append(\"utils/\")\n",
    "import importlib"
   ]
  },
  {
   "cell_type": "code",
   "execution_count": 3,
   "id": "0afbd4a6",
   "metadata": {
    "ExecuteTime": {
     "end_time": "2022-06-01T16:20:26.094765Z",
     "start_time": "2022-06-01T16:20:23.928450Z"
    }
   },
   "outputs": [],
   "source": [
    "from custom_data_preprocessing import get_cols_by_type, one_hot_encoder\n",
    "from custom_graphs import biplot"
   ]
  },
  {
   "cell_type": "markdown",
   "id": "6552c854",
   "metadata": {},
   "source": [
    "## Load datasets"
   ]
  },
  {
   "cell_type": "code",
   "execution_count": 4,
   "id": "d8dad269",
   "metadata": {
    "ExecuteTime": {
     "end_time": "2022-06-01T16:20:26.113765Z",
     "start_time": "2022-06-01T16:20:26.097547Z"
    }
   },
   "outputs": [],
   "source": [
    "df = pd.read_csv(\"datasets/Baseball_Clean.csv\")"
   ]
  },
  {
   "cell_type": "markdown",
   "id": "a816efbc",
   "metadata": {},
   "source": [
    "## Data Preparation"
   ]
  },
  {
   "cell_type": "markdown",
   "id": "4c03ee72",
   "metadata": {},
   "source": [
    "### Remove Variables"
   ]
  },
  {
   "cell_type": "code",
   "execution_count": 5,
   "id": "fe3b5a7d",
   "metadata": {
    "ExecuteTime": {
     "end_time": "2022-06-01T16:20:26.125987Z",
     "start_time": "2022-06-01T16:20:26.118155Z"
    }
   },
   "outputs": [],
   "source": [
    "players = df['Player']"
   ]
  },
  {
   "cell_type": "code",
   "execution_count": 6,
   "id": "17f60cd6",
   "metadata": {
    "ExecuteTime": {
     "end_time": "2022-06-01T16:20:26.140066Z",
     "start_time": "2022-06-01T16:20:26.131499Z"
    }
   },
   "outputs": [],
   "source": [
    "df = df.drop([\"Player\", \"Unnamed: 0\"], axis=1)"
   ]
  },
  {
   "cell_type": "markdown",
   "id": "3542c83b",
   "metadata": {},
   "source": [
    "### Separation of variables"
   ]
  },
  {
   "cell_type": "code",
   "execution_count": 7,
   "id": "e1e826ca",
   "metadata": {
    "ExecuteTime": {
     "end_time": "2022-06-01T16:20:26.153997Z",
     "start_time": "2022-06-01T16:20:26.146820Z"
    }
   },
   "outputs": [],
   "source": [
    "y = df[\"Salary\"]\n",
    "X = df.drop([\"Salary\"], axis=1)"
   ]
  },
  {
   "cell_type": "markdown",
   "id": "533f97e0",
   "metadata": {
    "ExecuteTime": {
     "end_time": "2022-05-24T15:28:51.825635Z",
     "start_time": "2022-05-24T15:28:51.814852Z"
    }
   },
   "source": [
    "### One Hot Encoder"
   ]
  },
  {
   "cell_type": "markdown",
   "id": "dd37edc1",
   "metadata": {},
   "source": [
    "We do One Hot Encoder in the categorical variables to train the models."
   ]
  },
  {
   "cell_type": "code",
   "execution_count": 8,
   "id": "78e4f9e6",
   "metadata": {
    "ExecuteTime": {
     "end_time": "2022-06-01T16:20:26.174110Z",
     "start_time": "2022-06-01T16:20:26.158826Z"
    }
   },
   "outputs": [],
   "source": [
    "cat_cols, num_cols =  get_cols_by_type(X)"
   ]
  },
  {
   "cell_type": "code",
   "execution_count": 9,
   "id": "306f7e83",
   "metadata": {
    "ExecuteTime": {
     "end_time": "2022-06-01T16:20:26.194285Z",
     "start_time": "2022-06-01T16:20:26.177429Z"
    }
   },
   "outputs": [],
   "source": [
    "X = one_hot_encoder(X, cat_cols, drop_first=True)"
   ]
  },
  {
   "cell_type": "markdown",
   "id": "472483f2",
   "metadata": {},
   "source": [
    "## Intrinsic Dimension"
   ]
  },
  {
   "cell_type": "markdown",
   "id": "b0bd4829",
   "metadata": {},
   "source": [
    "First we will find the intrinsic dimension"
   ]
  },
  {
   "cell_type": "markdown",
   "id": "a0dcf30f",
   "metadata": {},
   "source": [
    "### Pipeline build"
   ]
  },
  {
   "cell_type": "code",
   "execution_count": 10,
   "id": "4c523a1d",
   "metadata": {
    "ExecuteTime": {
     "end_time": "2022-06-01T16:20:26.204106Z",
     "start_time": "2022-06-01T16:20:26.198737Z"
    }
   },
   "outputs": [],
   "source": [
    "scaler = StandardScaler()\n",
    "pca = PCA()\n",
    "pipeline = make_pipeline(scaler, pca)"
   ]
  },
  {
   "cell_type": "markdown",
   "id": "f1615ff4",
   "metadata": {},
   "source": [
    "### PCA Features"
   ]
  },
  {
   "cell_type": "code",
   "execution_count": 11,
   "id": "425c4850",
   "metadata": {
    "ExecuteTime": {
     "end_time": "2022-06-01T16:20:26.243840Z",
     "start_time": "2022-06-01T16:20:26.207882Z"
    }
   },
   "outputs": [],
   "source": [
    "pca_features = pipeline.fit_transform(X)"
   ]
  },
  {
   "cell_type": "markdown",
   "id": "d532c289",
   "metadata": {},
   "source": [
    "###  PC Visualitations"
   ]
  },
  {
   "cell_type": "code",
   "execution_count": 12,
   "id": "1732b650",
   "metadata": {
    "ExecuteTime": {
     "end_time": "2022-06-01T16:20:26.265407Z",
     "start_time": "2022-06-01T16:20:26.247465Z"
    }
   },
   "outputs": [
    {
     "data": {
      "text/plain": [
       "(263, 19)"
      ]
     },
     "execution_count": 12,
     "metadata": {},
     "output_type": "execute_result"
    }
   ],
   "source": [
    "pca_features.shape"
   ]
  },
  {
   "cell_type": "code",
   "execution_count": 13,
   "id": "8cd5248e",
   "metadata": {
    "ExecuteTime": {
     "end_time": "2022-06-01T16:20:26.856701Z",
     "start_time": "2022-06-01T16:20:26.268194Z"
    }
   },
   "outputs": [
    {
     "data": {
      "image/png": "[encoded data removed]",
      "text/plain": [
       "<Figure size 1080x504 with 1 Axes>"
      ]
     },
     "metadata": {
      "needs_background": "light"
     },
     "output_type": "display_data"
    }
   ],
   "source": [
    "biplot(pca_features[:,:10], pca.components_, 0, 1, X.columns)"
   ]
  },
  {
   "cell_type": "code",
   "execution_count": 14,
   "id": "4317a02d",
   "metadata": {
    "ExecuteTime": {
     "end_time": "2022-06-01T16:20:27.416975Z",
     "start_time": "2022-06-01T16:20:26.859663Z"
    }
   },
   "outputs": [
    {
     "data": {
      "image/png": "[encoded data removed]",
      "text/plain": [
       "<Figure size 1080x504 with 1 Axes>"
      ]
     },
     "metadata": {
      "needs_background": "light"
     },
     "output_type": "display_data"
    }
   ],
   "source": [
    "biplot(pca_features[:,:10], pca.components_, 0, 2, X.columns)"
   ]
  },
  {
   "cell_type": "code",
   "execution_count": 15,
   "id": "fe084528",
   "metadata": {
    "ExecuteTime": {
     "end_time": "2022-06-01T16:20:27.978913Z",
     "start_time": "2022-06-01T16:20:27.419973Z"
    },
    "scrolled": true
   },
   "outputs": [
    {
     "data": {
      "image/png": "[encoded data removed]",
      "text/plain": [
       "<Figure size 1080x504 with 1 Axes>"
      ]
     },
     "metadata": {
      "needs_background": "light"
     },
     "output_type": "display_data"
    }
   ],
   "source": [
    "biplot(pca_features[:,:10], pca.components_, 1, 0, X.columns)"
   ]
  },
  {
   "cell_type": "markdown",
   "id": "cbc862a7",
   "metadata": {},
   "source": [
    "With the above we have given an idea of what are the most important components that influence the data.\n",
    "\n",
    "We already have an idea of the most significant variables but now we review the most positive and negative values of each original variable in each component to make it easier to understand."
   ]
  },
  {
   "cell_type": "code",
   "execution_count": 16,
   "id": "fe8ad148",
   "metadata": {
    "ExecuteTime": {
     "end_time": "2022-06-01T16:20:27.996827Z",
     "start_time": "2022-06-01T16:20:27.990383Z"
    }
   },
   "outputs": [],
   "source": [
    "components_index = []\n",
    "\n",
    "for i in range(0, len(X.columns)):\n",
    "    components_index.append('PC'+ str(i))\n",
    "\n",
    "components = pd.DataFrame(data=pca.components_, columns=X.columns, index=components_index)"
   ]
  },
  {
   "cell_type": "code",
   "execution_count": 17,
   "id": "d5ae4920",
   "metadata": {
    "ExecuteTime": {
     "end_time": "2022-06-01T16:20:28.197793Z",
     "start_time": "2022-06-01T16:20:28.000764Z"
    }
   },
   "outputs": [
    {
     "name": "stdout",
     "output_type": "stream",
     "text": [
      "[+]\n",
      "CRBI      0.340343\n",
      "CRuns     0.338208\n",
      "CHits     0.330742\n",
      "CAtBat    0.330463\n",
      "CHmRun    0.318979\n",
      "Name: PC0, dtype: float64\n",
      "[-]\n",
      "League_N      -0.054471\n",
      "NewLeague_N   -0.041910\n",
      "Division_W    -0.025725\n",
      "Errors        -0.007859\n",
      "Assists       -0.000842\n",
      "Name: PC0, dtype: float64\n",
      "---------------------------------------\n",
      "[+]\n",
      "Years     0.262402\n",
      "CAtBat    0.192904\n",
      "CWalks    0.192315\n",
      "CHits     0.182899\n",
      "CRuns     0.172276\n",
      "Name: PC1, dtype: float64\n",
      "[-]\n",
      "AtBat   -0.383784\n",
      "Runs    -0.377721\n",
      "Hits    -0.377271\n",
      "RBI     -0.314531\n",
      "HmRun   -0.237136\n",
      "Name: PC1, dtype: float64\n",
      "---------------------------------------\n",
      "[+]\n",
      "League_N       0.547725\n",
      "NewLeague_N    0.544582\n",
      "Assists        0.397871\n",
      "Errors         0.382850\n",
      "AtBat          0.088626\n",
      "Name: PC2, dtype: float64\n",
      "[-]\n",
      "HmRun        -0.216186\n",
      "CHmRun       -0.086272\n",
      "RBI          -0.073085\n",
      "Runs         -0.017166\n",
      "Division_W   -0.016201\n",
      "Name: PC2, dtype: float64\n",
      "---------------------------------------\n",
      "[+]\n",
      "Assists    0.524053\n",
      "Errors     0.421917\n",
      "Years      0.095312\n",
      "CAtBat     0.091114\n",
      "CHits      0.083751\n",
      "Name: PC3, dtype: float64\n",
      "[-]\n",
      "NewLeague_N   -0.417718\n",
      "League_N      -0.396013\n",
      "PutOuts       -0.287591\n",
      "HmRun         -0.235831\n",
      "RBI           -0.138985\n",
      "Name: PC3, dtype: float64\n",
      "---------------------------------------\n",
      "[+]\n",
      "Division_W    0.985726\n",
      "PutOuts       0.105866\n",
      "HmRun         0.077660\n",
      "Errors        0.055290\n",
      "CHmRun        0.032652\n",
      "Name: PC4, dtype: float64\n",
      "[-]\n",
      "Runs      -0.038536\n",
      "CWalks    -0.033969\n",
      "Walks     -0.032495\n",
      "CRuns     -0.017569\n",
      "Assists   -0.011125\n",
      "Name: PC4, dtype: float64\n",
      "---------------------------------------\n",
      "[+]\n",
      "PutOuts    0.924090\n",
      "Errors     0.148183\n",
      "Assists    0.035223\n",
      "CWalks     0.033988\n",
      "Years      0.033243\n",
      "Name: PC5, dtype: float64\n",
      "[-]\n",
      "NewLeague_N   -0.156965\n",
      "HmRun         -0.149646\n",
      "League_N      -0.136837\n",
      "Runs          -0.136660\n",
      "RBI           -0.111675\n",
      "Name: PC5, dtype: float64\n",
      "---------------------------------------\n",
      "[+]\n",
      "Walks         0.558420\n",
      "Runs          0.201764\n",
      "CWalks        0.177639\n",
      "Hits          0.130026\n",
      "Division_W    0.113390\n",
      "Name: PC6, dtype: float64\n",
      "[-]\n",
      "HmRun    -0.505833\n",
      "Errors   -0.372539\n",
      "RBI      -0.319440\n",
      "CHmRun   -0.228830\n",
      "CRBI     -0.118539\n",
      "Name: PC6, dtype: float64\n",
      "---------------------------------------\n",
      "[+]\n",
      "Hits      0.388722\n",
      "AtBat     0.269810\n",
      "CHits     0.194547\n",
      "CAtBat    0.147030\n",
      "Years     0.138314\n",
      "Name: PC7, dtype: float64\n",
      "[-]\n",
      "Walks    -0.623342\n",
      "Errors   -0.301207\n",
      "CWalks   -0.263124\n",
      "CHmRun   -0.249490\n",
      "HmRun    -0.226278\n",
      "Name: PC7, dtype: float64\n",
      "---------------------------------------\n",
      "[+]\n",
      "Assists    0.706801\n",
      "CHmRun     0.167949\n",
      "RBI        0.131146\n",
      "HmRun      0.127422\n",
      "PutOuts    0.094082\n",
      "Name: PC8, dtype: float64\n",
      "[-]\n",
      "Errors   -0.609276\n",
      "Runs     -0.171230\n",
      "CHits    -0.094925\n",
      "CRuns    -0.093523\n",
      "Hits     -0.061604\n",
      "Name: PC8, dtype: float64\n",
      "---------------------------------------\n",
      "[+]\n",
      "CHmRun    0.650534\n",
      "CRBI      0.281008\n",
      "AtBat     0.145621\n",
      "Hits      0.130476\n",
      "Runs      0.032245\n",
      "Name: PC9, dtype: float64\n",
      "[-]\n",
      "Years    -0.512507\n",
      "HmRun    -0.351111\n",
      "RBI      -0.172233\n",
      "Walks    -0.120940\n",
      "CAtBat   -0.101137\n",
      "Name: PC9, dtype: float64\n",
      "---------------------------------------\n",
      "[+]\n",
      "NewLeague_N    0.543970\n",
      "RBI            0.243415\n",
      "Years          0.191547\n",
      "Walks          0.176393\n",
      "AtBat          0.097328\n",
      "Name: PC10, dtype: float64\n",
      "[-]\n",
      "League_N   -0.580759\n",
      "Runs       -0.312187\n",
      "HmRun      -0.202190\n",
      "CWalks     -0.190550\n",
      "CRuns      -0.151711\n",
      "Name: PC10, dtype: float64\n",
      "---------------------------------------\n",
      "[+]\n",
      "League_N    0.406626\n",
      "Years       0.354594\n",
      "RBI         0.347752\n",
      "Walks       0.185278\n",
      "Hits        0.121009\n",
      "Name: PC11, dtype: float64\n",
      "[-]\n",
      "NewLeague_N   -0.429403\n",
      "Runs          -0.321700\n",
      "HmRun         -0.314852\n",
      "CRuns         -0.229114\n",
      "CWalks        -0.215694\n",
      "Name: PC11, dtype: float64\n",
      "---------------------------------------\n",
      "[+]\n",
      "RBI       0.440143\n",
      "CHits     0.266807\n",
      "CRuns     0.202301\n",
      "CWalks    0.166700\n",
      "CAtBat    0.148585\n",
      "Name: PC12, dtype: float64\n",
      "[-]\n",
      "Years         -0.605010\n",
      "Runs          -0.381219\n",
      "CHmRun        -0.330107\n",
      "HmRun         -0.108689\n",
      "NewLeague_N   -0.062339\n",
      "Name: PC12, dtype: float64\n",
      "---------------------------------------\n",
      "[+]\n",
      "CWalks    0.736944\n",
      "AtBat     0.306248\n",
      "Hits      0.210616\n",
      "Years     0.086080\n",
      "CHmRun    0.039828\n",
      "Name: PC13, dtype: float64\n",
      "[-]\n",
      "CHits    -0.290311\n",
      "Runs     -0.266583\n",
      "Walks    -0.237940\n",
      "CRBI     -0.208779\n",
      "CAtBat   -0.168155\n",
      "Name: PC13, dtype: float64\n",
      "---------------------------------------\n",
      "[+]\n",
      "AtBat     0.532433\n",
      "HmRun     0.355455\n",
      "Walks     0.176549\n",
      "CAtBat    0.157743\n",
      "CHits     0.136632\n",
      "Name: PC14, dtype: float64\n",
      "[-]\n",
      "Runs     -0.468300\n",
      "RBI      -0.461468\n",
      "CWalks   -0.244820\n",
      "CRBI     -0.069401\n",
      "Years    -0.066239\n",
      "Name: PC14, dtype: float64\n",
      "---------------------------------------\n",
      "[+]\n",
      "Hits     0.720168\n",
      "HmRun    0.200408\n",
      "CRBI     0.142912\n",
      "CHits    0.110442\n",
      "Walks    0.102541\n",
      "Name: PC15, dtype: float64\n",
      "[-]\n",
      "AtBat    -0.510331\n",
      "RBI      -0.237366\n",
      "Runs     -0.220518\n",
      "CRuns    -0.162387\n",
      "CAtBat   -0.056835\n",
      "Name: PC15, dtype: float64\n",
      "---------------------------------------\n",
      "[+]\n",
      "CRBI      0.609594\n",
      "CAtBat    0.182264\n",
      "CWalks    0.169723\n",
      "Runs      0.140946\n",
      "AtBat     0.139342\n",
      "Name: PC16, dtype: float64\n",
      "[-]\n",
      "CRuns    -0.622512\n",
      "CHmRun   -0.291752\n",
      "Hits     -0.167363\n",
      "RBI      -0.106688\n",
      "Years    -0.095586\n",
      "Name: PC16, dtype: float64\n",
      "---------------------------------------\n",
      "[+]\n",
      "CAtBat    0.720128\n",
      "CHmRun    0.254301\n",
      "RBI       0.063998\n",
      "Runs      0.047050\n",
      "Hits      0.043568\n",
      "Name: PC17, dtype: float64\n",
      "[-]\n",
      "CRBI    -0.475372\n",
      "CRuns   -0.400103\n",
      "AtBat   -0.106790\n",
      "Years   -0.085780\n",
      "HmRun   -0.058377\n",
      "Name: PC17, dtype: float64\n",
      "---------------------------------------\n",
      "[+]\n",
      "CHits     0.770272\n",
      "CHmRun    0.166104\n",
      "CWalks    0.087714\n",
      "Runs      0.059145\n",
      "AtBat     0.053777\n",
      "Name: PC18, dtype: float64\n",
      "[-]\n",
      "CAtBat   -0.409277\n",
      "CRuns    -0.344135\n",
      "CRBI     -0.259940\n",
      "Hits     -0.097782\n",
      "HmRun    -0.024805\n",
      "Name: PC18, dtype: float64\n",
      "---------------------------------------\n"
     ]
    }
   ],
   "source": [
    "for i in range(0, len(X.columns)):\n",
    "  print('[+]')\n",
    "  print(components.transpose()['PC'+ str(i)].sort_values(ascending=False)[:5])\n",
    "  print('[-]')\n",
    "  print(components.transpose()['PC'+ str(i)].sort_values()[:5])\n",
    "  print(\"---------------------------------------\")"
   ]
  },
  {
   "cell_type": "markdown",
   "id": "8a6fd0ad",
   "metadata": {},
   "source": [
    "### Explained Variance "
   ]
  },
  {
   "cell_type": "code",
   "execution_count": 18,
   "id": "80ad9291",
   "metadata": {
    "ExecuteTime": {
     "end_time": "2022-06-01T16:20:28.783577Z",
     "start_time": "2022-06-01T16:20:28.201286Z"
    }
   },
   "outputs": [
    {
     "data": {
      "image/png": "[encoded data removed]",
      "text/plain": [
       "<Figure size 432x288 with 1 Axes>"
      ]
     },
     "metadata": {
      "needs_background": "light"
     },
     "output_type": "display_data"
    }
   ],
   "source": [
    "features = range(pca.n_components_)\n",
    "plt.bar(features, pca.explained_variance_)\n",
    "plt.xlabel('PCA feature')\n",
    "plt.ylabel('variance')\n",
    "plt.xticks(features)\n",
    "plt.show()"
   ]
  },
  {
   "cell_type": "code",
   "execution_count": 19,
   "id": "cd4d1705",
   "metadata": {
    "ExecuteTime": {
     "end_time": "2022-06-01T16:20:28.789550Z",
     "start_time": "2022-06-01T16:20:28.785812Z"
    }
   },
   "outputs": [],
   "source": [
    "var_exp = pca.explained_variance_ratio_"
   ]
  },
  {
   "cell_type": "code",
   "execution_count": 20,
   "id": "3b37604f",
   "metadata": {
    "ExecuteTime": {
     "end_time": "2022-06-01T16:20:28.808306Z",
     "start_time": "2022-06-01T16:20:28.793510Z"
    }
   },
   "outputs": [
    {
     "data": {
      "text/plain": [
       "array([0.3831424 , 0.60155315, 0.70841675, 0.79034194, 0.84290275,\n",
       "       0.88634779, 0.92262888, 0.94963043, 0.96282691, 0.97255413,\n",
       "       0.97977754, 0.986487  , 0.99151787, 0.99473033, 0.99746591,\n",
       "       0.99893988, 0.99968159, 0.99993751, 1.        ])"
      ]
     },
     "execution_count": 20,
     "metadata": {},
     "output_type": "execute_result"
    }
   ],
   "source": [
    "np.cumsum(var_exp)"
   ]
  },
  {
   "cell_type": "code",
   "execution_count": 21,
   "id": "e1dc0651",
   "metadata": {
    "ExecuteTime": {
     "end_time": "2022-06-01T16:20:28.814565Z",
     "start_time": "2022-06-01T16:20:28.811392Z"
    }
   },
   "outputs": [],
   "source": [
    "num_var = 0\n",
    "cumsum = 0\n",
    "while cumsum < 0.95:\n",
    "    cumsum += var_exp[num_var]\n",
    "    num_var += 1"
   ]
  },
  {
   "cell_type": "code",
   "execution_count": 22,
   "id": "9b395ffe",
   "metadata": {
    "ExecuteTime": {
     "end_time": "2022-06-01T16:20:28.833197Z",
     "start_time": "2022-06-01T16:20:28.819877Z"
    }
   },
   "outputs": [
    {
     "data": {
      "text/plain": [
       "9"
      ]
     },
     "execution_count": 22,
     "metadata": {},
     "output_type": "execute_result"
    }
   ],
   "source": [
    "num_var"
   ]
  },
  {
   "cell_type": "code",
   "execution_count": 23,
   "id": "701bbdff",
   "metadata": {
    "ExecuteTime": {
     "end_time": "2022-06-01T16:20:28.840047Z",
     "start_time": "2022-06-01T16:20:28.835402Z"
    }
   },
   "outputs": [
    {
     "data": {
      "text/plain": [
       "0.9628269123520309"
      ]
     },
     "execution_count": 23,
     "metadata": {},
     "output_type": "execute_result"
    }
   ],
   "source": [
    "cumsum"
   ]
  },
  {
   "cell_type": "markdown",
   "id": "74053bf7",
   "metadata": {},
   "source": [
    "With 9 variables we explain 95% of the variance.\n",
    "\n",
    "Let's see it graphically"
   ]
  },
  {
   "cell_type": "code",
   "execution_count": 24,
   "id": "af051745",
   "metadata": {
    "ExecuteTime": {
     "end_time": "2022-06-01T16:20:29.279775Z",
     "start_time": "2022-06-01T16:20:28.843517Z"
    }
   },
   "outputs": [
    {
     "data": {
      "image/png": "[encoded data removed]",
      "text/plain": [
       "<Figure size 1080x504 with 1 Axes>"
      ]
     },
     "metadata": {
      "needs_background": "light"
     },
     "output_type": "display_data"
    }
   ],
   "source": [
    "plt.figure(figsize=(15, 7))\n",
    "plt.bar(range(len(pca.explained_variance_ratio_)), pca.explained_variance_ratio_, alpha=0.3333, align='center', label='Variance explained by each PC', color = 'g')\n",
    "plt.step(range(len(np.cumsum(pca.explained_variance_ratio_))), np.cumsum(pca.explained_variance_ratio_), where='mid',label='Cumulative explained variance')\n",
    "plt.ylabel('Percentage of variance explained')\n",
    "plt.xlabel('Principal components')\n",
    "plt.legend(loc='best')\n",
    "plt.show()"
   ]
  },
  {
   "cell_type": "markdown",
   "id": "1b2fa45e",
   "metadata": {},
   "source": [
    "## PC Data"
   ]
  },
  {
   "cell_type": "code",
   "execution_count": 25,
   "id": "d9529f6a",
   "metadata": {
    "ExecuteTime": {
     "end_time": "2022-06-01T16:20:29.286733Z",
     "start_time": "2022-06-01T16:20:29.282454Z"
    }
   },
   "outputs": [],
   "source": [
    "X_reducted = pd.DataFrame(pca_features)\n",
    "X_reducted = X_reducted.loc[:,:8]"
   ]
  },
  {
   "cell_type": "code",
   "execution_count": 26,
   "id": "2e89c0f6",
   "metadata": {
    "ExecuteTime": {
     "end_time": "2022-06-01T16:20:29.335893Z",
     "start_time": "2022-06-01T16:20:29.291478Z"
    }
   },
   "outputs": [
    {
     "data": {
      "text/html": [
       "<div>\n",
       "<style scoped>\n",
       "    .dataframe tbody tr th:only-of-type {\n",
       "        vertical-align: middle;\n",
       "    }\n",
       "\n",
       "    .dataframe tbody tr th {\n",
       "        vertical-align: top;\n",
       "    }\n",
       "\n",
       "    .dataframe thead th {\n",
       "        text-align: right;\n",
       "    }\n",
       "</style>\n",
       "<table border=\"1\" class=\"dataframe\">\n",
       "  <thead>\n",
       "    <tr style=\"text-align: right;\">\n",
       "      <th></th>\n",
       "      <th>0</th>\n",
       "      <th>1</th>\n",
       "      <th>2</th>\n",
       "      <th>3</th>\n",
       "      <th>4</th>\n",
       "      <th>5</th>\n",
       "      <th>6</th>\n",
       "      <th>7</th>\n",
       "      <th>8</th>\n",
       "    </tr>\n",
       "  </thead>\n",
       "  <tbody>\n",
       "    <tr>\n",
       "      <th>0</th>\n",
       "      <td>-0.009649</td>\n",
       "      <td>1.870522</td>\n",
       "      <td>1.265145</td>\n",
       "      <td>-0.935481</td>\n",
       "      <td>1.109636</td>\n",
       "      <td>1.211972</td>\n",
       "      <td>-0.065146</td>\n",
       "      <td>-0.098249</td>\n",
       "      <td>-0.252423</td>\n",
       "    </tr>\n",
       "    <tr>\n",
       "      <th>1</th>\n",
       "      <td>0.411434</td>\n",
       "      <td>-2.429422</td>\n",
       "      <td>-0.909193</td>\n",
       "      <td>-0.264212</td>\n",
       "      <td>1.232031</td>\n",
       "      <td>1.826617</td>\n",
       "      <td>0.359893</td>\n",
       "      <td>-1.199383</td>\n",
       "      <td>-0.371820</td>\n",
       "    </tr>\n",
       "    <tr>\n",
       "      <th>2</th>\n",
       "      <td>3.466822</td>\n",
       "      <td>0.825947</td>\n",
       "      <td>0.555469</td>\n",
       "      <td>-1.616726</td>\n",
       "      <td>-0.857488</td>\n",
       "      <td>-1.028712</td>\n",
       "      <td>-0.999385</td>\n",
       "      <td>0.844247</td>\n",
       "      <td>0.197379</td>\n",
       "    </tr>\n",
       "    <tr>\n",
       "      <th>3</th>\n",
       "      <td>-2.558317</td>\n",
       "      <td>-0.230984</td>\n",
       "      <td>0.519642</td>\n",
       "      <td>-2.176251</td>\n",
       "      <td>-0.820301</td>\n",
       "      <td>1.491696</td>\n",
       "      <td>-0.276141</td>\n",
       "      <td>0.207094</td>\n",
       "      <td>0.414956</td>\n",
       "    </tr>\n",
       "    <tr>\n",
       "      <th>4</th>\n",
       "      <td>1.027702</td>\n",
       "      <td>-1.573537</td>\n",
       "      <td>1.331382</td>\n",
       "      <td>3.494004</td>\n",
       "      <td>0.983427</td>\n",
       "      <td>0.513675</td>\n",
       "      <td>0.140456</td>\n",
       "      <td>0.989707</td>\n",
       "      <td>-0.661933</td>\n",
       "    </tr>\n",
       "    <tr>\n",
       "      <th>...</th>\n",
       "      <td>...</td>\n",
       "      <td>...</td>\n",
       "      <td>...</td>\n",
       "      <td>...</td>\n",
       "      <td>...</td>\n",
       "      <td>...</td>\n",
       "      <td>...</td>\n",
       "      <td>...</td>\n",
       "      <td>...</td>\n",
       "    </tr>\n",
       "    <tr>\n",
       "      <th>258</th>\n",
       "      <td>-0.331167</td>\n",
       "      <td>-0.165663</td>\n",
       "      <td>0.775890</td>\n",
       "      <td>-1.536702</td>\n",
       "      <td>-1.035016</td>\n",
       "      <td>-0.306299</td>\n",
       "      <td>0.552371</td>\n",
       "      <td>1.184243</td>\n",
       "      <td>-0.246646</td>\n",
       "    </tr>\n",
       "    <tr>\n",
       "      <th>259</th>\n",
       "      <td>3.246183</td>\n",
       "      <td>-0.543315</td>\n",
       "      <td>1.209150</td>\n",
       "      <td>2.754023</td>\n",
       "      <td>-1.197520</td>\n",
       "      <td>0.834749</td>\n",
       "      <td>1.969884</td>\n",
       "      <td>-1.371907</td>\n",
       "      <td>-0.543945</td>\n",
       "    </tr>\n",
       "    <tr>\n",
       "      <th>260</th>\n",
       "      <td>-1.094609</td>\n",
       "      <td>-0.751386</td>\n",
       "      <td>-0.935937</td>\n",
       "      <td>1.072347</td>\n",
       "      <td>0.705912</td>\n",
       "      <td>-0.644482</td>\n",
       "      <td>1.496147</td>\n",
       "      <td>0.287111</td>\n",
       "      <td>-0.304373</td>\n",
       "    </tr>\n",
       "    <tr>\n",
       "      <th>261</th>\n",
       "      <td>1.977682</td>\n",
       "      <td>-2.184517</td>\n",
       "      <td>-0.282012</td>\n",
       "      <td>-0.216874</td>\n",
       "      <td>-0.694872</td>\n",
       "      <td>3.514692</td>\n",
       "      <td>1.142097</td>\n",
       "      <td>-0.230697</td>\n",
       "      <td>-0.240990</td>\n",
       "    </tr>\n",
       "    <tr>\n",
       "      <th>262</th>\n",
       "      <td>1.833002</td>\n",
       "      <td>-0.301097</td>\n",
       "      <td>-1.055323</td>\n",
       "      <td>0.492980</td>\n",
       "      <td>0.916396</td>\n",
       "      <td>0.275273</td>\n",
       "      <td>1.224192</td>\n",
       "      <td>2.427177</td>\n",
       "      <td>-0.717128</td>\n",
       "    </tr>\n",
       "  </tbody>\n",
       "</table>\n",
       "<p>263 rows × 9 columns</p>\n",
       "</div>"
      ],
      "text/plain": [
       "            0         1         2         3         4         5         6  \\\n",
       "0   -0.009649  1.870522  1.265145 -0.935481  1.109636  1.211972 -0.065146   \n",
       "1    0.411434 -2.429422 -0.909193 -0.264212  1.232031  1.826617  0.359893   \n",
       "2    3.466822  0.825947  0.555469 -1.616726 -0.857488 -1.028712 -0.999385   \n",
       "3   -2.558317 -0.230984  0.519642 -2.176251 -0.820301  1.491696 -0.276141   \n",
       "4    1.027702 -1.573537  1.331382  3.494004  0.983427  0.513675  0.140456   \n",
       "..        ...       ...       ...       ...       ...       ...       ...   \n",
       "258 -0.331167 -0.165663  0.775890 -1.536702 -1.035016 -0.306299  0.552371   \n",
       "259  3.246183 -0.543315  1.209150  2.754023 -1.197520  0.834749  1.969884   \n",
       "260 -1.094609 -0.751386 -0.935937  1.072347  0.705912 -0.644482  1.496147   \n",
       "261  1.977682 -2.184517 -0.282012 -0.216874 -0.694872  3.514692  1.142097   \n",
       "262  1.833002 -0.301097 -1.055323  0.492980  0.916396  0.275273  1.224192   \n",
       "\n",
       "            7         8  \n",
       "0   -0.098249 -0.252423  \n",
       "1   -1.199383 -0.371820  \n",
       "2    0.844247  0.197379  \n",
       "3    0.207094  0.414956  \n",
       "4    0.989707 -0.661933  \n",
       "..        ...       ...  \n",
       "258  1.184243 -0.246646  \n",
       "259 -1.371907 -0.543945  \n",
       "260  0.287111 -0.304373  \n",
       "261 -0.230697 -0.240990  \n",
       "262  2.427177 -0.717128  \n",
       "\n",
       "[263 rows x 9 columns]"
      ]
     },
     "execution_count": 26,
     "metadata": {},
     "output_type": "execute_result"
    }
   ],
   "source": [
    "X_reducted"
   ]
  },
  {
   "cell_type": "markdown",
   "id": "c2aa15e1",
   "metadata": {},
   "source": [
    "We now have a data set that explains 95% of the original variance"
   ]
  },
  {
   "cell_type": "markdown",
   "id": "3c4e273a",
   "metadata": {},
   "source": [
    "## Clustering"
   ]
  },
  {
   "cell_type": "markdown",
   "id": "a661bc00",
   "metadata": {},
   "source": [
    "### Best k"
   ]
  },
  {
   "cell_type": "markdown",
   "id": "a801e298",
   "metadata": {},
   "source": [
    "We will find the best k betweet 3 and 5 using inertia, for this we will graph the values from 1 to 8. To avoid choosing the average value between 3 and 5."
   ]
  },
  {
   "cell_type": "code",
   "execution_count": 27,
   "id": "f274c22a",
   "metadata": {
    "ExecuteTime": {
     "end_time": "2022-06-01T16:20:30.469782Z",
     "start_time": "2022-06-01T16:20:29.337801Z"
    }
   },
   "outputs": [
    {
     "data": {
      "image/png": "[encoded data removed]",
      "text/plain": [
       "<Figure size 432x288 with 1 Axes>"
      ]
     },
     "metadata": {
      "needs_background": "light"
     },
     "output_type": "display_data"
    }
   ],
   "source": [
    "ks = range(1, 8)\n",
    "inertias = []\n",
    "\n",
    "for k in ks:\n",
    "    scaler = StandardScaler()\n",
    "    kmeans = KMeans(n_clusters=k)\n",
    "    pipeline = make_pipeline(scaler, kmeans)\n",
    "    pipeline.fit(X_reducted)\n",
    "   \n",
    "    # Append the inertia to the list of inertias\n",
    "    inertias.append(kmeans.inertia_)\n",
    "    \n",
    "# Plot ks vs inertias\n",
    "plt.plot(ks, inertias, '-o')\n",
    "plt.xlabel('number of clusters, k')\n",
    "plt.ylabel('inertia')\n",
    "plt.xticks(ks)\n",
    "plt.show()"
   ]
  },
  {
   "cell_type": "markdown",
   "id": "2a4dba69",
   "metadata": {},
   "source": [
    "The best option is k=5"
   ]
  },
  {
   "cell_type": "markdown",
   "id": "508eb247",
   "metadata": {},
   "source": [
    "### Making Clusters"
   ]
  },
  {
   "cell_type": "code",
   "execution_count": 28,
   "id": "017867ec",
   "metadata": {
    "ExecuteTime": {
     "end_time": "2022-06-01T16:20:30.658837Z",
     "start_time": "2022-06-01T16:20:30.472635Z"
    }
   },
   "outputs": [
    {
     "data": {
      "text/plain": [
       "Pipeline(steps=[('standardscaler', StandardScaler()),\n",
       "                ('kmeans', KMeans(n_clusters=5))])"
      ]
     },
     "execution_count": 28,
     "metadata": {},
     "output_type": "execute_result"
    }
   ],
   "source": [
    "scaler = StandardScaler()\n",
    "kmeans = KMeans(n_clusters=5)\n",
    "\n",
    "pipeline = make_pipeline(scaler, kmeans)\n",
    "pipeline.fit(X_reducted)"
   ]
  },
  {
   "cell_type": "code",
   "execution_count": 29,
   "id": "8e639967",
   "metadata": {
    "ExecuteTime": {
     "end_time": "2022-06-01T16:20:30.682577Z",
     "start_time": "2022-06-01T16:20:30.661875Z"
    }
   },
   "outputs": [],
   "source": [
    "labels = pipeline.predict(X_reducted)"
   ]
  },
  {
   "cell_type": "code",
   "execution_count": 30,
   "id": "36f8efcd",
   "metadata": {
    "ExecuteTime": {
     "end_time": "2022-06-01T16:20:30.689510Z",
     "start_time": "2022-06-01T16:20:30.685155Z"
    }
   },
   "outputs": [],
   "source": [
    "df_clusters = pd.DataFrame({'players': players, 'labels': labels})"
   ]
  },
  {
   "cell_type": "code",
   "execution_count": 31,
   "id": "04fbfc5a",
   "metadata": {
    "ExecuteTime": {
     "end_time": "2022-06-01T16:20:30.720309Z",
     "start_time": "2022-06-01T16:20:30.693412Z"
    }
   },
   "outputs": [
    {
     "data": {
      "text/html": [
       "<div>\n",
       "<style scoped>\n",
       "    .dataframe tbody tr th:only-of-type {\n",
       "        vertical-align: middle;\n",
       "    }\n",
       "\n",
       "    .dataframe tbody tr th {\n",
       "        vertical-align: top;\n",
       "    }\n",
       "\n",
       "    .dataframe thead th {\n",
       "        text-align: right;\n",
       "    }\n",
       "</style>\n",
       "<table border=\"1\" class=\"dataframe\">\n",
       "  <thead>\n",
       "    <tr style=\"text-align: right;\">\n",
       "      <th></th>\n",
       "      <th>players</th>\n",
       "      <th>labels</th>\n",
       "    </tr>\n",
       "  </thead>\n",
       "  <tbody>\n",
       "    <tr>\n",
       "      <th>0</th>\n",
       "      <td>Alan Ashby</td>\n",
       "      <td>3</td>\n",
       "    </tr>\n",
       "    <tr>\n",
       "      <th>1</th>\n",
       "      <td>Alvin Davis</td>\n",
       "      <td>3</td>\n",
       "    </tr>\n",
       "    <tr>\n",
       "      <th>2</th>\n",
       "      <td>Andre Dawson</td>\n",
       "      <td>1</td>\n",
       "    </tr>\n",
       "    <tr>\n",
       "      <th>3</th>\n",
       "      <td>Andres Galarraga</td>\n",
       "      <td>3</td>\n",
       "    </tr>\n",
       "    <tr>\n",
       "      <th>4</th>\n",
       "      <td>Alfredo Griffin</td>\n",
       "      <td>4</td>\n",
       "    </tr>\n",
       "    <tr>\n",
       "      <th>...</th>\n",
       "      <td>...</td>\n",
       "      <td>...</td>\n",
       "    </tr>\n",
       "    <tr>\n",
       "      <th>258</th>\n",
       "      <td>Willie McGee</td>\n",
       "      <td>1</td>\n",
       "    </tr>\n",
       "    <tr>\n",
       "      <th>259</th>\n",
       "      <td>Willie Randolph</td>\n",
       "      <td>4</td>\n",
       "    </tr>\n",
       "    <tr>\n",
       "      <th>260</th>\n",
       "      <td>Wayne Tolleson</td>\n",
       "      <td>2</td>\n",
       "    </tr>\n",
       "    <tr>\n",
       "      <th>261</th>\n",
       "      <td>Willie Upshaw</td>\n",
       "      <td>3</td>\n",
       "    </tr>\n",
       "    <tr>\n",
       "      <th>262</th>\n",
       "      <td>Willie Wilson</td>\n",
       "      <td>2</td>\n",
       "    </tr>\n",
       "  </tbody>\n",
       "</table>\n",
       "<p>263 rows × 2 columns</p>\n",
       "</div>"
      ],
      "text/plain": [
       "              players  labels\n",
       "0          Alan Ashby       3\n",
       "1         Alvin Davis       3\n",
       "2        Andre Dawson       1\n",
       "3    Andres Galarraga       3\n",
       "4     Alfredo Griffin       4\n",
       "..                ...     ...\n",
       "258      Willie McGee       1\n",
       "259   Willie Randolph       4\n",
       "260    Wayne Tolleson       2\n",
       "261     Willie Upshaw       3\n",
       "262     Willie Wilson       2\n",
       "\n",
       "[263 rows x 2 columns]"
      ]
     },
     "execution_count": 31,
     "metadata": {},
     "output_type": "execute_result"
    }
   ],
   "source": [
    "df_clusters"
   ]
  },
  {
   "cell_type": "code",
   "execution_count": 32,
   "id": "897f1d25",
   "metadata": {
    "ExecuteTime": {
     "end_time": "2022-06-01T16:20:30.760543Z",
     "start_time": "2022-06-01T16:20:30.732065Z"
    }
   },
   "outputs": [
    {
     "data": {
      "text/html": [
       "<div>\n",
       "<style scoped>\n",
       "    .dataframe tbody tr th:only-of-type {\n",
       "        vertical-align: middle;\n",
       "    }\n",
       "\n",
       "    .dataframe tbody tr th {\n",
       "        vertical-align: top;\n",
       "    }\n",
       "\n",
       "    .dataframe thead th {\n",
       "        text-align: right;\n",
       "    }\n",
       "</style>\n",
       "<table border=\"1\" class=\"dataframe\">\n",
       "  <thead>\n",
       "    <tr style=\"text-align: right;\">\n",
       "      <th></th>\n",
       "      <th>players</th>\n",
       "      <th>labels</th>\n",
       "    </tr>\n",
       "  </thead>\n",
       "  <tbody>\n",
       "    <tr>\n",
       "      <th>69</th>\n",
       "      <td>Darryl Strawberry</td>\n",
       "      <td>0</td>\n",
       "    </tr>\n",
       "    <tr>\n",
       "      <th>91</th>\n",
       "      <td>Graig Nettles</td>\n",
       "      <td>0</td>\n",
       "    </tr>\n",
       "    <tr>\n",
       "      <th>53</th>\n",
       "      <td>Doug DeCinces</td>\n",
       "      <td>0</td>\n",
       "    </tr>\n",
       "    <tr>\n",
       "      <th>186</th>\n",
       "      <td>Pete Incaviglia</td>\n",
       "      <td>0</td>\n",
       "    </tr>\n",
       "    <tr>\n",
       "      <th>79</th>\n",
       "      <td>George Bell</td>\n",
       "      <td>0</td>\n",
       "    </tr>\n",
       "    <tr>\n",
       "      <th>...</th>\n",
       "      <td>...</td>\n",
       "      <td>...</td>\n",
       "    </tr>\n",
       "    <tr>\n",
       "      <th>229</th>\n",
       "      <td>Steve Sax</td>\n",
       "      <td>4</td>\n",
       "    </tr>\n",
       "    <tr>\n",
       "      <th>27</th>\n",
       "      <td>Brook Jacoby</td>\n",
       "      <td>4</td>\n",
       "    </tr>\n",
       "    <tr>\n",
       "      <th>233</th>\n",
       "      <td>Tony Fernandez</td>\n",
       "      <td>4</td>\n",
       "    </tr>\n",
       "    <tr>\n",
       "      <th>86</th>\n",
       "      <td>Greg Gagne</td>\n",
       "      <td>4</td>\n",
       "    </tr>\n",
       "    <tr>\n",
       "      <th>230</th>\n",
       "      <td>Tony Bernazard</td>\n",
       "      <td>4</td>\n",
       "    </tr>\n",
       "  </tbody>\n",
       "</table>\n",
       "<p>263 rows × 2 columns</p>\n",
       "</div>"
      ],
      "text/plain": [
       "               players  labels\n",
       "69   Darryl Strawberry       0\n",
       "91       Graig Nettles       0\n",
       "53       Doug DeCinces       0\n",
       "186    Pete Incaviglia       0\n",
       "79         George Bell       0\n",
       "..                 ...     ...\n",
       "229          Steve Sax       4\n",
       "27        Brook Jacoby       4\n",
       "233     Tony Fernandez       4\n",
       "86          Greg Gagne       4\n",
       "230     Tony Bernazard       4\n",
       "\n",
       "[263 rows x 2 columns]"
      ]
     },
     "execution_count": 32,
     "metadata": {},
     "output_type": "execute_result"
    }
   ],
   "source": [
    "df_clusters.sort_values(['labels'])"
   ]
  },
  {
   "cell_type": "markdown",
   "id": "1ee55832",
   "metadata": {},
   "source": [
    "We already have the players classified in groups."
   ]
  },
  {
   "cell_type": "markdown",
   "id": "2b8c9a46",
   "metadata": {},
   "source": [
    "## Clusters analysis"
   ]
  },
  {
   "cell_type": "code",
   "execution_count": 38,
   "id": "2e756adf",
   "metadata": {
    "ExecuteTime": {
     "end_time": "2022-06-01T16:25:44.182820Z",
     "start_time": "2022-06-01T16:25:44.179114Z"
    }
   },
   "outputs": [],
   "source": [
    "pd.set_option('display.float_format', lambda x: '%.2f' % x)"
   ]
  },
  {
   "cell_type": "code",
   "execution_count": 34,
   "id": "a1e5980c",
   "metadata": {
    "ExecuteTime": {
     "end_time": "2022-06-01T16:20:30.774403Z",
     "start_time": "2022-06-01T16:20:30.769317Z"
    }
   },
   "outputs": [],
   "source": [
    "df[\"Salary\"] = y\n",
    "df[\"Label\"] = labels"
   ]
  },
  {
   "cell_type": "code",
   "execution_count": 39,
   "id": "274dd32c",
   "metadata": {
    "ExecuteTime": {
     "end_time": "2022-06-01T16:25:46.928985Z",
     "start_time": "2022-06-01T16:25:46.892115Z"
    },
    "scrolled": false
   },
   "outputs": [
    {
     "data": {
      "text/html": [
       "<div>\n",
       "<style scoped>\n",
       "    .dataframe tbody tr th:only-of-type {\n",
       "        vertical-align: middle;\n",
       "    }\n",
       "\n",
       "    .dataframe tbody tr th {\n",
       "        vertical-align: top;\n",
       "    }\n",
       "\n",
       "    .dataframe thead th {\n",
       "        text-align: right;\n",
       "    }\n",
       "</style>\n",
       "<table border=\"1\" class=\"dataframe\">\n",
       "  <thead>\n",
       "    <tr style=\"text-align: right;\">\n",
       "      <th>Label</th>\n",
       "      <th>0</th>\n",
       "      <th>1</th>\n",
       "      <th>2</th>\n",
       "      <th>3</th>\n",
       "      <th>4</th>\n",
       "    </tr>\n",
       "  </thead>\n",
       "  <tbody>\n",
       "    <tr>\n",
       "      <th>AtBat</th>\n",
       "      <td>502.28</td>\n",
       "      <td>325.84</td>\n",
       "      <td>333.38</td>\n",
       "      <td>448.68</td>\n",
       "      <td>524.08</td>\n",
       "    </tr>\n",
       "    <tr>\n",
       "      <th>Hits</th>\n",
       "      <td>132.47</td>\n",
       "      <td>87.12</td>\n",
       "      <td>88.29</td>\n",
       "      <td>121.13</td>\n",
       "      <td>141.57</td>\n",
       "    </tr>\n",
       "    <tr>\n",
       "      <th>HmRun</th>\n",
       "      <td>25.42</td>\n",
       "      <td>7.99</td>\n",
       "      <td>8.36</td>\n",
       "      <td>15.35</td>\n",
       "      <td>9.43</td>\n",
       "    </tr>\n",
       "    <tr>\n",
       "      <th>Runs</th>\n",
       "      <td>78.14</td>\n",
       "      <td>43.19</td>\n",
       "      <td>44.04</td>\n",
       "      <td>59.19</td>\n",
       "      <td>68.06</td>\n",
       "    </tr>\n",
       "    <tr>\n",
       "      <th>RBI</th>\n",
       "      <td>84.31</td>\n",
       "      <td>39.86</td>\n",
       "      <td>38.27</td>\n",
       "      <td>63.55</td>\n",
       "      <td>57.16</td>\n",
       "    </tr>\n",
       "    <tr>\n",
       "      <th>Walks</th>\n",
       "      <td>64.06</td>\n",
       "      <td>32.32</td>\n",
       "      <td>29.78</td>\n",
       "      <td>50.81</td>\n",
       "      <td>48.55</td>\n",
       "    </tr>\n",
       "    <tr>\n",
       "      <th>Years</th>\n",
       "      <td>9.67</td>\n",
       "      <td>6.80</td>\n",
       "      <td>6.83</td>\n",
       "      <td>8.35</td>\n",
       "      <td>6.41</td>\n",
       "    </tr>\n",
       "    <tr>\n",
       "      <th>CAtBat</th>\n",
       "      <td>4186.92</td>\n",
       "      <td>2210.22</td>\n",
       "      <td>2107.21</td>\n",
       "      <td>3332.52</td>\n",
       "      <td>2612.86</td>\n",
       "    </tr>\n",
       "    <tr>\n",
       "      <th>CHits</th>\n",
       "      <td>1129.53</td>\n",
       "      <td>600.59</td>\n",
       "      <td>566.67</td>\n",
       "      <td>932.58</td>\n",
       "      <td>708.59</td>\n",
       "    </tr>\n",
       "    <tr>\n",
       "      <th>CHmRun</th>\n",
       "      <td>179.50</td>\n",
       "      <td>45.72</td>\n",
       "      <td>47.90</td>\n",
       "      <td>95.16</td>\n",
       "      <td>38.92</td>\n",
       "    </tr>\n",
       "    <tr>\n",
       "      <th>CRuns</th>\n",
       "      <td>625.33</td>\n",
       "      <td>289.07</td>\n",
       "      <td>282.62</td>\n",
       "      <td>445.65</td>\n",
       "      <td>340.49</td>\n",
       "    </tr>\n",
       "    <tr>\n",
       "      <th>CRBI</th>\n",
       "      <td>644.64</td>\n",
       "      <td>258.22</td>\n",
       "      <td>241.46</td>\n",
       "      <td>451.90</td>\n",
       "      <td>265.98</td>\n",
       "    </tr>\n",
       "    <tr>\n",
       "      <th>CWalks</th>\n",
       "      <td>497.19</td>\n",
       "      <td>206.36</td>\n",
       "      <td>186.90</td>\n",
       "      <td>342.90</td>\n",
       "      <td>226.61</td>\n",
       "    </tr>\n",
       "    <tr>\n",
       "      <th>PutOuts</th>\n",
       "      <td>213.06</td>\n",
       "      <td>184.41</td>\n",
       "      <td>201.29</td>\n",
       "      <td>943.29</td>\n",
       "      <td>226.94</td>\n",
       "    </tr>\n",
       "    <tr>\n",
       "      <th>Assists</th>\n",
       "      <td>46.44</td>\n",
       "      <td>59.29</td>\n",
       "      <td>54.68</td>\n",
       "      <td>86.77</td>\n",
       "      <td>377.88</td>\n",
       "    </tr>\n",
       "    <tr>\n",
       "      <th>Errors</th>\n",
       "      <td>6.92</td>\n",
       "      <td>6.23</td>\n",
       "      <td>5.74</td>\n",
       "      <td>9.90</td>\n",
       "      <td>16.86</td>\n",
       "    </tr>\n",
       "    <tr>\n",
       "      <th>Salary</th>\n",
       "      <td>849.56</td>\n",
       "      <td>415.50</td>\n",
       "      <td>356.92</td>\n",
       "      <td>875.17</td>\n",
       "      <td>545.39</td>\n",
       "    </tr>\n",
       "  </tbody>\n",
       "</table>\n",
       "</div>"
      ],
      "text/plain": [
       "Label         0       1       2       3       4\n",
       "AtBat    502.28  325.84  333.38  448.68  524.08\n",
       "Hits     132.47   87.12   88.29  121.13  141.57\n",
       "HmRun     25.42    7.99    8.36   15.35    9.43\n",
       "Runs      78.14   43.19   44.04   59.19   68.06\n",
       "RBI       84.31   39.86   38.27   63.55   57.16\n",
       "Walks     64.06   32.32   29.78   50.81   48.55\n",
       "Years      9.67    6.80    6.83    8.35    6.41\n",
       "CAtBat  4186.92 2210.22 2107.21 3332.52 2612.86\n",
       "CHits   1129.53  600.59  566.67  932.58  708.59\n",
       "CHmRun   179.50   45.72   47.90   95.16   38.92\n",
       "CRuns    625.33  289.07  282.62  445.65  340.49\n",
       "CRBI     644.64  258.22  241.46  451.90  265.98\n",
       "CWalks   497.19  206.36  186.90  342.90  226.61\n",
       "PutOuts  213.06  184.41  201.29  943.29  226.94\n",
       "Assists   46.44   59.29   54.68   86.77  377.88\n",
       "Errors     6.92    6.23    5.74    9.90   16.86\n",
       "Salary   849.56  415.50  356.92  875.17  545.39"
      ]
     },
     "execution_count": 39,
     "metadata": {},
     "output_type": "execute_result"
    }
   ],
   "source": [
    "df.groupby(['Label']).mean().transpose()"
   ]
  },
  {
   "cell_type": "markdown",
   "id": "2f57f1fd",
   "metadata": {
    "ExecuteTime": {
     "end_time": "2022-06-01T16:22:18.145147Z",
     "start_time": "2022-06-01T16:22:18.139267Z"
    }
   },
   "source": [
    "- **Cluster 0**: \n",
    "    - Has the second highest average salary.\n",
    "    - Has the highest HmRun average in 1986.\n",
    "    - Has the highest RBI and RBI in 1986.\n",
    "    - Has the highest average base on balls (walks) in 1986.\n",
    "    - Has the highest average number of years as a professional.\n",
    "    - He has the highest individual statistics of his professional career.\n",
    "    - They are players with a long career in baseball, who have great statistics during the 1986 league.\n",
    "\n",
    "- **Cluster 1**:\n",
    "    - They are players with a not so extensive trajectory in their professional career.\n",
    "    - His league stats are very similar to cluster 2, only slightly smaller in some respects.\n",
    "    - Their statistics during the professional career, are also similar to those of cluster 2. Highlighting a higher value in CAtBat, so they can be players with more batting experience than cluster 2\n",
    "    - Has superior statistics in terms of runs and batting with respect to group 2.\n",
    "    - They can be experienced hitters, but who still have a track record, who have good statistics related to runs.\n",
    "\n",
    "- **Cluster 2**:\n",
    "    - It has very similar statistics to cluster 1, but nevertheless earn less than the players in that cluster.\n",
    "    - They have a greater number of PutOuts, so they can be defensive players.\n",
    "    - They make fewer mistakes, which can also be reflected because they are players who do not have such a long career.\n",
    "    - During the league in some aspects it has higher statistics than cluster 2, but it is the opposite case for the statistics on the career. This may explain the salary difference.\n",
    "    \n",
    "- **Cluster 3**: \n",
    "    - They are the group with the second highest average salary.\n",
    "    - It has slightly less experience than cluster 0.\n",
    "    - It is a cluster of players with a career in the sport, but whose statistics are below the best paid.\n",
    "    \n",
    "- **Cluster 4**: \n",
    "    - The cluster of promises could be considered.\n",
    "    - It is a cluster with a higher salary than clusters 1 and 2, despite having fewer years of career.\n",
    "    - We consider them promising because their statistics are higher than clusters 1 and 2. And in some cases it resembles and exceeds cluster 3, which is the second best-paid cluster with the longest track record.\n",
    "    - It is a group of players with less experience that equals and exceeds the statistics of more experienced players and that far exceeds the statistics of other groups with the same professional career time."
   ]
  }
 ],
 "metadata": {
  "hide_input": false,
  "kernelspec": {
   "display_name": "Python 3",
   "language": "python",
   "name": "python3"
  },
  "language_info": {
   "codemirror_mode": {
    "name": "ipython",
    "version": 3
   },
   "file_extension": ".py",
   "mimetype": "text/x-python",
   "name": "python",
   "nbconvert_exporter": "python",
   "pygments_lexer": "ipython3",
   "version": "3.8.10"
  },
  "toc": {
   "base_numbering": 1,
   "nav_menu": {},
   "number_sections": false,
   "sideBar": true,
   "skip_h1_title": true,
   "title_cell": "Table of Contents",
   "title_sidebar": "Contents",
   "toc_cell": true,
   "toc_position": {
    "height": "calc(100% - 180px)",
    "left": "10px",
    "top": "150px",
    "width": "287.812px"
   },
   "toc_section_display": true,
   "toc_window_display": true
  }
 },
 "nbformat": 4,
 "nbformat_minor": 5
}
